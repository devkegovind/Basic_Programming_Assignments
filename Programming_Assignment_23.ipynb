{
  "nbformat": 4,
  "nbformat_minor": 0,
  "metadata": {
    "colab": {
      "provenance": []
    },
    "kernelspec": {
      "name": "python3",
      "display_name": "Python 3"
    },
    "language_info": {
      "name": "python"
    }
  },
  "cells": [
    {
      "cell_type": "markdown",
      "source": [
        "---\n",
        "<h1 align='center'><b>PROGRAMMING ASSIGNMENT_23</b></h1>\n",
        "\n",
        "---"
      ],
      "metadata": {
        "id": "-hJB0wAOrBaH"
      }
    },
    {
      "cell_type": "markdown",
      "source": [
        "<h4 align='justify'><b>Question 1\n",
        "Create a function that takes a number as an argument and returns True or False depending\n",
        "on whether the number is symmetrical or not. A number is symmetrical when it is the same as\n",
        "its reverse.\n",
        "Examples</b></h4>\n",
        "\n",
        "is_symmetrical(7227) ➞ True\n",
        "\n",
        "is_symmetrical(12567) ➞ False\n",
        "\n",
        "is_symmetrical(44444444) ➞ True\n",
        "\n",
        "is_symmetrical(9939) ➞ False\n",
        "\n",
        "is_symmetrical(1112111) ➞ True"
      ],
      "metadata": {
        "id": "VEIfifKarELF"
      }
    },
    {
      "cell_type": "code",
      "source": [
        "def is_symmetrical(a):\n",
        "  # a is a number\n",
        "  if str(a) == str(a)[::-1]:\n",
        "    return True\n",
        "  else:\n",
        "    return False\n",
        "\n",
        "print(is_symmetrical(7227))\n",
        "print(is_symmetrical(12567))\n",
        "print(is_symmetrical(44444444))\n",
        "print(is_symmetrical(9939))\n",
        "print(is_symmetrical(1112111))"
      ],
      "metadata": {
        "id": "SvmLQcnPsNJO",
        "colab": {
          "base_uri": "https://localhost:8080/"
        },
        "outputId": "870e6e25-06bf-4868-85c8-80ece91d1b66"
      },
      "execution_count": null,
      "outputs": [
        {
          "output_type": "stream",
          "name": "stdout",
          "text": [
            "True\n",
            "False\n",
            "True\n",
            "False\n",
            "True\n"
          ]
        }
      ]
    },
    {
      "cell_type": "markdown",
      "source": [
        "<h4 align='justify'><b>Question 2\n",
        "Given a string of numbers separated by a comma and space, return the product of the\n",
        "numbers.\n",
        "Examples</b></h4>\n",
        "\n",
        "multiply_nums(&quot;2, 3&quot;) ➞ 6\n",
        "\n",
        "multiply_nums(&quot;1, 2, 3, 4&quot;) ➞ 24\n",
        "\n",
        "multiply_nums(&quot;54, 75, 453, 0&quot;) ➞ 0\n",
        "\n",
        "multiply_nums(&quot;10, -2&quot;) ➞ -20"
      ],
      "metadata": {
        "id": "vQjW-uZtrD5e"
      }
    },
    {
      "cell_type": "code",
      "execution_count": null,
      "metadata": {
        "id": "Z-gzV_Kfq7lj",
        "colab": {
          "base_uri": "https://localhost:8080/"
        },
        "outputId": "6c11a33b-49a8-444f-9b86-40f0a50fe5a8"
      },
      "outputs": [
        {
          "output_type": "stream",
          "name": "stdout",
          "text": [
            "6\n",
            "24\n",
            "0\n",
            "-20\n"
          ]
        }
      ],
      "source": [
        "def multiply_nums(a):\n",
        "  # a is the first string\n",
        "  mult = 1\n",
        "  for i in (a.split(',')):\n",
        "    mult *= int(i)\n",
        "  return mult\n",
        "\n",
        "print(multiply_nums(\"2, 3\"))\n",
        "print(multiply_nums(\"1, 2, 3, 4\"))\n",
        "print(multiply_nums(\"54, 75, 453, 0\"))\n",
        "print(multiply_nums(\"10, -2\"))"
      ]
    },
    {
      "cell_type": "markdown",
      "source": [
        "<h4 align='justify'><b>Question 3\n",
        "Create a function that squares every digit of a number.\n",
        "Examples</b></h4>\n",
        "\n",
        "square_digits(9119) ➞ 811181\n",
        "\n",
        "square_digits(2483) ➞ 416649\n",
        "\n",
        "square_digits(3212) ➞ 9414\n",
        "\n",
        "Notes\n",
        "The function receives an integer and must return an integer."
      ],
      "metadata": {
        "id": "npTdqr8XsSFu"
      }
    },
    {
      "cell_type": "code",
      "source": [
        "def square_digits(a):\n",
        "  s = \"\"\n",
        "  for i in str(a):\n",
        "    y = int(i)* int(i)\n",
        "    s += str(y)\n",
        "  return int(s)\n",
        "\n",
        "print(square_digits(9119))\n",
        "print(square_digits(2483))\n",
        "print(square_digits(3212))"
      ],
      "metadata": {
        "id": "vrP9AWccsWYZ",
        "colab": {
          "base_uri": "https://localhost:8080/"
        },
        "outputId": "300fdde2-df07-4b29-e7c8-adbe0e37c723"
      },
      "execution_count": null,
      "outputs": [
        {
          "output_type": "stream",
          "name": "stdout",
          "text": [
            "811181\n",
            "416649\n",
            "9414\n"
          ]
        }
      ]
    },
    {
      "cell_type": "markdown",
      "source": [
        "<h4 align='justify'><b>Question 4\n",
        "Create a function that sorts a list and removes all duplicate items from it.\n",
        "Examples</b></h4>\n",
        "\n",
        "setify([1, 3, 3, 5, 5]) ➞ [1, 3, 5]\n",
        "\n",
        "setify([4, 4, 4, 4]) ➞ [4]\n",
        "\n",
        "setify([5, 7, 8, 9, 10, 15]) ➞ [5, 7, 8, 9, 10, 15]\n",
        "\n",
        "setify([3, 3, 3, 2, 1]) ➞ [1, 2, 3]"
      ],
      "metadata": {
        "id": "fCBh7wKnsXQn"
      }
    },
    {
      "cell_type": "code",
      "source": [
        "def setify(List):\n",
        "  list1 = []\n",
        "  for i in List:\n",
        "    if i not in list1:\n",
        "      list1.append(i)\n",
        "      list1.sort()\n",
        "    else:\n",
        "      list1 = list1\n",
        "  \n",
        "  return list1\n",
        "\n",
        "print(setify([1, 3, 3, 5, 5]))\n",
        "print(setify([5, 7, 8, 9, 10, 15]))\n",
        "print(setify([3, 3, 3, 2, 1]))"
      ],
      "metadata": {
        "id": "Kq_QvKUxsajI",
        "colab": {
          "base_uri": "https://localhost:8080/"
        },
        "outputId": "2ea0e01d-3276-4ac3-d33a-f0e22c99083d"
      },
      "execution_count": null,
      "outputs": [
        {
          "output_type": "stream",
          "name": "stdout",
          "text": [
            "[1, 3, 5]\n",
            "[5, 7, 8, 9, 10, 15]\n",
            "[1, 2, 3]\n"
          ]
        }
      ]
    },
    {
      "cell_type": "markdown",
      "source": [
        "<h4 align='justify'><b>Question 5\n",
        "Create a function that returns the mean of all digits.\n",
        "Examples</b></h4>\n",
        "\n",
        "mean(42) ➞ 3\n",
        "\n",
        "mean(12345) ➞ 3\n",
        "\n",
        "mean(666) ➞ 6\n",
        "\n",
        "Notes\n",
        "- The mean of all digits is the sum of digits / how many digits there are (e.g. mean of digits in\n",
        "512 is (5+1+2)/3(number of digits) = 8/3=2).\n",
        "- The mean will always be an integer."
      ],
      "metadata": {
        "id": "w3142qrDsbCu"
      }
    },
    {
      "cell_type": "code",
      "source": [
        "def mean(a):\n",
        "  sum1 = 0\n",
        "  for i in str(a):\n",
        "    sum1 += int(i)\n",
        "    b = sum1/len(str(a))\n",
        "  return int(b)\n",
        "\n",
        "print(mean(42))\n",
        "print(mean(12345))\n",
        "print(mean(666))"
      ],
      "metadata": {
        "id": "wi6Yu0XescSX",
        "colab": {
          "base_uri": "https://localhost:8080/"
        },
        "outputId": "85744602-dcf8-4815-a5eb-3ce87060ecdc"
      },
      "execution_count": null,
      "outputs": [
        {
          "output_type": "stream",
          "name": "stdout",
          "text": [
            "3\n",
            "3\n",
            "6\n"
          ]
        }
      ]
    }
  ]
}