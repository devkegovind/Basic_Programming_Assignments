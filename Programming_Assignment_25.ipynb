{
  "nbformat": 4,
  "nbformat_minor": 0,
  "metadata": {
    "colab": {
      "provenance": []
    },
    "kernelspec": {
      "name": "python3",
      "display_name": "Python 3"
    },
    "language_info": {
      "name": "python"
    }
  },
  "cells": [
    {
      "cell_type": "markdown",
      "source": [
        "---\n",
        "<h1 align='center'><b>PROGRAMMING ASSIGNMENT_25</b></h1>\n",
        "\n",
        "---"
      ],
      "metadata": {
        "id": "9P5P1LO-n_TA"
      }
    },
    {
      "cell_type": "markdown",
      "source": [
        "<h4 align='justify'><b>Question1\n",
        "Create a function that takes three integer arguments (a, b, c) and returns the amount of\n",
        "integers which are of equal value.\n",
        "Examples</b></h4>\n",
        "\n",
        "equal(3, 4, 3) ➞ 2\n",
        "\n",
        "equal(1, 1, 1) ➞ 3\n",
        "\n",
        "equal(3, 4, 1) ➞ 0\n",
        "\n",
        "Notes\n",
        "Your function must return 0, 2 or 3."
      ],
      "metadata": {
        "id": "-xDPkCptoDXw"
      }
    },
    {
      "cell_type": "code",
      "execution_count": 32,
      "metadata": {
        "colab": {
          "base_uri": "https://localhost:8080/",
          "height": 0
        },
        "id": "_spkmF6fn8bf",
        "outputId": "a977d6d4-69e2-4d2a-bb1e-7c6b556dc41b"
      },
      "outputs": [
        {
          "output_type": "stream",
          "name": "stdout",
          "text": [
            "2\n",
            "3\n",
            "0\n"
          ]
        }
      ],
      "source": [
        "def equal(a, b, c):\n",
        "  num = 0\n",
        "  if a == b and a == c:\n",
        "    num = 3\n",
        "  elif a == b or a == c:\n",
        "    num = 2\n",
        "  else:\n",
        "    num = 0\n",
        "  \n",
        "  return num\n",
        "  \n",
        "print(equal(3, 4, 3))\n",
        "print(equal(1,1,1))\n",
        "print(equal(3, 4, 1))"
      ]
    },
    {
      "cell_type": "markdown",
      "source": [
        "<h4 align='justify'><b>Question2\n",
        "Write a function that converts a dictionary into a list of keys-values tuples.\n",
        "Examples</b></h4>\n",
        "\n",
        "dict_to_list({\n",
        "&quot;D&quot;: 1,\n",
        "&quot;B&quot;: 2,\n",
        "&quot;C&quot;: 3\n",
        "}) ➞ [(&quot;B&quot;, 2), (&quot;C&quot;, 3), (&quot;D&quot;, 1)]\n",
        "\n",
        "dict_to_list({\n",
        "&quot;likes&quot;: 2,\n",
        "&quot;dislikes&quot;: 3,\n",
        "&quot;followers&quot;: 10\n",
        "}) ➞ [(&quot;dislikes&quot;, 3), (&quot;followers&quot;, 10), (&quot;likes&quot;, 2)]\n",
        "\n",
        "Notes\n",
        "Return the elements in the list in alphabetical order."
      ],
      "metadata": {
        "id": "fF1jytzaoxfh"
      }
    },
    {
      "cell_type": "code",
      "source": [
        "def dict_to_list(Dictionary):\n",
        "  list1 = []\n",
        "  for k, v in Dictionary.items():\n",
        "    list1.append((k,v))\n",
        "    list1.sort()\n",
        "  return list1\n",
        "\n",
        "print(dict_to_list({ \"D\": 1, \"B\": 2, \"C\": 3 }))\n",
        "print(dict_to_list({ \"likes\": 2, \"dislikes\": 3, \"followers\": 10 }))"
      ],
      "metadata": {
        "colab": {
          "base_uri": "https://localhost:8080/"
        },
        "id": "qtfahphdo03e",
        "outputId": "ffc3d8e1-679c-40a9-faf2-80dca5f58093"
      },
      "execution_count": null,
      "outputs": [
        {
          "output_type": "stream",
          "name": "stdout",
          "text": [
            "[('B', 2), ('C', 3), ('D', 1)]\n",
            "[('dislikes', 3), ('followers', 10), ('likes', 2)]\n"
          ]
        }
      ]
    },
    {
      "cell_type": "markdown",
      "source": [
        "<h4 align='justify'><b>Question3\n",
        "Write a function that creates a dictionary with each (key, value) pair being the (lower case,\n",
        "upper case) versions of a letter, respectively.\n",
        "Examples</b></h4>\n",
        "\n",
        "mapping([&quot;p&quot;, &quot;s&quot;]) ➞ { &quot;p&quot;: &quot;P&quot;, &quot;s&quot;: &quot;S&quot; }\n",
        "\n",
        "mapping([&quot;a&quot;, &quot;b&quot;, &quot;c&quot;]) ➞ { &quot;a&quot;: &quot;A&quot;, &quot;b&quot;: &quot;B&quot;, &quot;c&quot;: &quot;C&quot; }\n",
        "\n",
        "mapping([&quot;a&quot;, &quot;v&quot;, &quot;y&quot;, &quot;z&quot;]) ➞ { &quot;a&quot;: &quot;A&quot;, &quot;v&quot;: &quot;V&quot;, &quot;y&quot;: &quot;Y&quot;, &quot;z&quot;: &quot;Z&quot; }\n",
        "\n",
        "Notes\n",
        "All of the letters in the input list will always be lowercase."
      ],
      "metadata": {
        "id": "A6HAZy4do1fI"
      }
    },
    {
      "cell_type": "code",
      "source": [
        "def mapping(List):\n",
        "      dict1 = {i:i.upper() for i in List}\n",
        "      return dict1 \n",
        "\n",
        "print(mapping([\"p\", \"s\"]))\n",
        "print(mapping([\"a\", \"b\", \"c\"]))\n",
        "print(mapping([\"a\", \"v\", \"y\", \"z\"]))"
      ],
      "metadata": {
        "colab": {
          "base_uri": "https://localhost:8080/",
          "height": 0
        },
        "id": "HPIpxfwgo8Yc",
        "outputId": "b6e0eae4-3083-45f9-8956-4f463bbdd1b4"
      },
      "execution_count": 11,
      "outputs": [
        {
          "output_type": "stream",
          "name": "stdout",
          "text": [
            "{'p': 'P', 's': 'S'}\n",
            "{'a': 'A', 'b': 'B', 'c': 'C'}\n",
            "{'a': 'A', 'v': 'V', 'y': 'Y', 'z': 'Z'}\n"
          ]
        }
      ]
    },
    {
      "cell_type": "markdown",
      "source": [
        "<h4 align='justify'><b>Question4\n",
        "Write a function, that replaces all vowels in a string with a specified vowel.\n",
        "Examples</b></h4>\n",
        "\n",
        "vow_replace(&quot;apples and bananas&quot;, &quot;u&quot;) ➞ &quot;upplus und bununus&quot;\n",
        "\n",
        "vow_replace(&quot;cheese casserole&quot;, &quot;o&quot;) ➞ &quot;chooso cossorolo&quot;\n",
        "\n",
        "vow_replace(&quot;stuffed jalapeno poppers&quot;, &quot;e&quot;) ➞ &quot;steffed jelepene peppers&quot;\n",
        "\n",
        "Notes\n",
        "All words will be lowercase. Y is not considered a vowel."
      ],
      "metadata": {
        "id": "QCe1sybto8-v"
      }
    },
    {
      "cell_type": "code",
      "source": [
        "def vow_replace(string, vowel):\n",
        "  vowels = \"AEIOUaeiou\"\n",
        "  for i in vowels:\n",
        "    if i in string:\n",
        "      string = string.replace(i, vowel) \n",
        "  return string\n",
        "print(vow_replace(\"apples and bananas\", \"u\"))\n",
        "print(vow_replace(\"cheese casserole\", \"o\"))\n",
        "print(vow_replace(\"stuffed jalapeno poppers\", \"e\"))"
      ],
      "metadata": {
        "colab": {
          "base_uri": "https://localhost:8080/"
        },
        "id": "uOdlepMco_Z_",
        "outputId": "a4e11861-9671-499d-f7f6-deecf7f0a648"
      },
      "execution_count": null,
      "outputs": [
        {
          "output_type": "stream",
          "name": "stdout",
          "text": [
            "upplus und bununus\n",
            "chooso cossorolo\n",
            "steffed jelepene peppers\n"
          ]
        }
      ]
    },
    {
      "cell_type": "markdown",
      "source": [
        "<h4 align='justify'><b>Question5\n",
        "Create a function that takes a string as input and capitalizes a letter if its ASCII code is even\n",
        "and returns its lower case version if its ASCII code is odd.\n",
        "Examples</b></h4>\n",
        "\n",
        "ascii_capitalize(&quot;to be or not to be!&quot;) ➞ &quot;To Be oR NoT To Be!&quot;\n",
        "\n",
        "ascii_capitalize(&quot;THE LITTLE MERMAID&quot;) ➞ &quot;THe LiTTLe meRmaiD&quot;\n",
        "\n",
        "ascii_capitalize(&quot;Oh what a beautiful morning.&quot;) ➞ &quot;oH wHaT a BeauTiFuL\n",
        "moRNiNg.&quot;"
      ],
      "metadata": {
        "id": "pnD33WUSpAUh"
      }
    },
    {
      "cell_type": "code",
      "source": [
        "def ascii_capitalize(string):\n",
        "  list1 = []\n",
        "  for i in range(len(string)):\n",
        "    if i % 2 == 0:\n",
        "      list1.append(string[i].lower())\n",
        "    else:\n",
        "      list1.append(string[i].upper())\n",
        "  return \"\".join(list1)\n",
        "  \n",
        "\n",
        "print(ascii_capitalize(\"to be or not to be!\"))\n",
        "print(ascii_capitalize(\"THE LITTLE MERMAID\"))\n",
        "print(ascii_capitalize(\"Oh what a beautiful morning.\"))"
      ],
      "metadata": {
        "colab": {
          "base_uri": "https://localhost:8080/"
        },
        "id": "_1fx-aekpBGC",
        "outputId": "1368bd67-8cd8-42bf-bc0b-8714312393ca"
      },
      "execution_count": null,
      "outputs": [
        {
          "output_type": "stream",
          "name": "stdout",
          "text": [
            "tO Be oR NoT To bE!\n",
            "tHe lItTlE MeRmAiD\n",
            "oH WhAt a bEaUtIfUl mOrNiNg.\n"
          ]
        }
      ]
    }
  ]
}