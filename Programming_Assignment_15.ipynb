{
  "nbformat": 4,
  "nbformat_minor": 0,
  "metadata": {
    "colab": {
      "provenance": []
    },
    "kernelspec": {
      "name": "python3",
      "display_name": "Python 3"
    },
    "language_info": {
      "name": "python"
    }
  },
  "cells": [
    {
      "cell_type": "markdown",
      "source": [
        "---\n",
        "<h1 align='center'><b>PROGRAMMING ASSIGNMENT_15</b></h1>\n",
        "\n",
        "---"
      ],
      "metadata": {
        "id": "Xm2sHTdbR7DH"
      }
    },
    {
      "cell_type": "markdown",
      "source": [
        "<h4 align='justify'><b>Question 1:Please write a program using generator to print the numbers which can be divisible by 5 and7 between 0 and n in comma separated form while n is input by console.\n",
        "Example:\n",
        "If the following n is given as input to the program:\n",
        "100 Then, the output of the program should be:\n",
        "0,35,70</b></h4>"
      ],
      "metadata": {
        "id": "u0LsgGl-Ssd-"
      }
    },
    {
      "cell_type": "code",
      "source": [
        "def NumGenerator(n):\n",
        "  for i in range(n+1):\n",
        "    if i%5==0 and i%7==0:\n",
        "      yield i\n",
        "\n",
        "n = int(input())\n",
        "values = []\n",
        "\n",
        "for i in NumGenerator(n):\n",
        "  values.append(str(i))\n",
        "\n",
        "print(\",\".join(values))"
      ],
      "metadata": {
        "colab": {
          "base_uri": "https://localhost:8080/"
        },
        "id": "xZnoFqWWSvnW",
        "outputId": "8f87a49e-4f56-41fb-e0c6-9f3d6cadbd49"
      },
      "execution_count": null,
      "outputs": [
        {
          "output_type": "stream",
          "name": "stdout",
          "text": [
            "100\n",
            "0,35,70\n"
          ]
        }
      ]
    },
    {
      "cell_type": "markdown",
      "source": [
        "<h4 align='justify'><b>Question 2:Please write a program using generator to print the even numbers between 0 and n in commaseparated form while n is input by console.\n",
        "Example:\n",
        "If the following n is given as input to the program:\n",
        "10 Then, the output of the program should be:\n",
        "0,2,4,6,8,10</b></h4>"
      ],
      "metadata": {
        "id": "MLt3gydHTGgl"
      }
    },
    {
      "cell_type": "code",
      "source": [
        "def generator(num):\n",
        "  for i in range(num+1):\n",
        "    if i % 2 == 0:\n",
        "      yield i\n",
        "\n",
        "num = int(input(\"Enter the Number: \"))\n",
        "list1 = []\n",
        "for i in generator(num):\n",
        "  list1.append(str(i))\n",
        "print(\",\".join(list1))"
      ],
      "metadata": {
        "colab": {
          "base_uri": "https://localhost:8080/"
        },
        "id": "V4Gw9vXJTHmM",
        "outputId": "262ab458-d442-40e5-8b50-44f4311a6097"
      },
      "execution_count": null,
      "outputs": [
        {
          "output_type": "stream",
          "name": "stdout",
          "text": [
            "Enter the Number: 10\n",
            "0,2,4,6,8,10\n"
          ]
        }
      ]
    },
    {
      "cell_type": "markdown",
      "source": [
        "<h4 align='justify'><b>Question 3:\n",
        "The Fibonacci Sequence is computed based on the following formula:</b></h4>\n",
        "\n",
        "f(n)=0 if n=0\n",
        "\n",
        "f(n)=1 if n=1\n",
        "\n",
        "f(n)=f(n-1)+f(n-2) if n&gt;1\n",
        "\n",
        "<h4 align='justify'><b>Please write a program using list comprehension to print the Fibonacci Sequence in comma separated form with a given n input by console.\n",
        "\n",
        "Example:\n",
        "If the following n is given as input to the program:\n",
        "7 Then, the output of the program should be:\n",
        "0,1,1,2,3,5,8,13</b></h4>"
      ],
      "metadata": {
        "id": "e6yCrvZ9TM0k"
      }
    },
    {
      "cell_type": "code",
      "source": [
        "def fibon(n):\n",
        "  if n == 0:\n",
        "    return 0\n",
        "  elif n == 1:\n",
        "    return 1\n",
        "  else:\n",
        "      return fibon(n-1) + fibon(n-2)\n",
        "\n",
        "n = int(input(\"Enter the Number: \"))\n",
        "\n",
        "list_2 = []\n",
        "\n",
        "for i in range(0, n+1):\n",
        "  list_2.append(str(fibon(i)))\n",
        "print(\",\".join(list_2))"
      ],
      "metadata": {
        "colab": {
          "base_uri": "https://localhost:8080/"
        },
        "id": "ninAGBYRTOth",
        "outputId": "024f080e-70ac-4c23-8fb5-390c2f9eed60"
      },
      "execution_count": null,
      "outputs": [
        {
          "output_type": "stream",
          "name": "stdout",
          "text": [
            "Enter the Number: 7\n",
            "0,1,1,2,3,5,8,13\n"
          ]
        }
      ]
    },
    {
      "cell_type": "markdown",
      "source": [
        "<h4 align='justify'><b>Question 4:Assuming that we have some email addresses in the** &quot;username@companyname.com&quot; **format, please write program to print the user name of a given email address. Both user names andcompany names are composed of letters only.\n",
        "Example:\n",
        "If the following email address is given as input to the program:\n",
        "john@google.com Then, the output of the program should be:\n",
        "john</b></h4>"
      ],
      "metadata": {
        "id": "Op_qzaSBTfY6"
      }
    },
    {
      "cell_type": "code",
      "source": [
        "email = input(\"Enter the email id of user: \")\n",
        "\n",
        "def username(email):\n",
        "  \n",
        "   # using split method to get username\n",
        "  user_name = email.split('@')[0]\n",
        "\n",
        "  print(f\"The username of email id is: {user_name}\")\n",
        "\n",
        "username(email)\n"
      ],
      "metadata": {
        "colab": {
          "base_uri": "https://localhost:8080/"
        },
        "id": "4nmUJuXNTiIK",
        "outputId": "3ffc4312-5a05-4ffa-ed80-47ec9f672e6f"
      },
      "execution_count": null,
      "outputs": [
        {
          "output_type": "stream",
          "name": "stdout",
          "text": [
            "Enter the email id of user: dgv.dypiet@gmail.com\n",
            "The username of email id is: dgv.dypiet\n"
          ]
        }
      ]
    },
    {
      "cell_type": "markdown",
      "source": [
        "<h4 align='justify'><b>Question 5:\n",
        "Define a class named Shape and its subclass Square. The Square class has an init function which takes a length as argument. Both classes have a area function which can print the area\n",
        "of the shape where Shape&#39;s area is 0 by default.</b></h4>"
      ],
      "metadata": {
        "id": "rWwV_phmR61X"
      }
    },
    {
      "cell_type": "code",
      "execution_count": null,
      "metadata": {
        "colab": {
          "base_uri": "https://localhost:8080/"
        },
        "id": "bywy2fzfR5LJ",
        "outputId": "9b5a8a65-8ee1-4094-b0fc-2054e97e5761"
      },
      "outputs": [
        {
          "output_type": "stream",
          "name": "stdout",
          "text": [
            "9\n"
          ]
        }
      ],
      "source": [
        "class Shape(object):\n",
        "  def __init__(self):\n",
        "    pass\n",
        "\n",
        "  def area(self):\n",
        "    return 0\n",
        "\n",
        "class Square(Shape):\n",
        "  def __init__(self, l):\n",
        "    Shape.__init__(self)\n",
        "    self.length = l\n",
        "\n",
        "  def area(self):\n",
        "    return self.length*self.length\n",
        "\n",
        "a = Square(3)\n",
        "print(a.area())"
      ]
    }
  ]
}