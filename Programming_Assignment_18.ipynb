{
  "nbformat": 4,
  "nbformat_minor": 0,
  "metadata": {
    "colab": {
      "provenance": []
    },
    "kernelspec": {
      "name": "python3",
      "display_name": "Python 3"
    },
    "language_info": {
      "name": "python"
    }
  },
  "cells": [
    {
      "cell_type": "markdown",
      "source": [
        "---\n",
        "<h1 align='center'><b>PROGRAMMING ASSIGNMENT_18</b></h1>\n",
        "\n",
        "---"
      ],
      "metadata": {
        "id": "1KFgzGY83L6I"
      }
    },
    {
      "cell_type": "markdown",
      "source": [
        "<h4 align='justify'><b>Question 1\n",
        "Create a function that takes a list of non-negative integers and strings and return a new list\n",
        "without the strings.\n",
        "Examples</b></h4>\n",
        "\n",
        "filter_list([1, 2, &quot;a&quot;, &quot;b&quot;]) ➞ [1, 2]\n",
        "\n",
        "filter_list([1, &quot;a&quot;, &quot;b&quot;, 0, 15]) ➞ [1, 0, 15]\n",
        "\n",
        "filter_list([1, 2, &quot;aasf&quot;, &quot;1&quot;, &quot;123&quot;, 123]) ➞ [1, 2, 123]\n",
        "\n"
      ],
      "metadata": {
        "id": "WMIMjK1M3Lw6"
      }
    },
    {
      "cell_type": "code",
      "source": [
        "def filter_list(List):\n",
        "  list1 = []\n",
        "  for i in List:\n",
        "    if type(i) == int:\n",
        "      list1.append(i)\n",
        "    else:\n",
        "      list1 = list1\n",
        "  return list1\n",
        "\n",
        "print(filter_list([1, 2, \"a\", \"b\"]))\n",
        "print(filter_list([1, \"a\", \"b\", 0, 15]))\n",
        "print(filter_list([1, 2, \"aasf\", \"1\", \"123\", 123]))\n"
      ],
      "metadata": {
        "colab": {
          "base_uri": "https://localhost:8080/"
        },
        "id": "2mtKK4B_Bi_m",
        "outputId": "12d728a4-549a-4938-9f03-9816a04b9958"
      },
      "execution_count": null,
      "outputs": [
        {
          "output_type": "stream",
          "name": "stdout",
          "text": [
            "[1, 2]\n",
            "[1, 0, 15]\n",
            "[1, 2, 123]\n"
          ]
        }
      ]
    },
    {
      "cell_type": "markdown",
      "source": [
        "<h4 align='justify'><b>Question 2\n",
        "The &quot;Reverser&quot; takes a string as input and returns that string in reverse order, with the\n",
        "opposite case.\n",
        "Examples</b></h4>\n",
        "\n",
        "reverse(&quot;Hello World&quot;) ➞ &quot;DLROw OLLEh&quot;\n",
        "\n",
        "reverse(&quot;ReVeRsE&quot;) ➞ &quot;eSrEvEr&quot;\n",
        "\n",
        "reverse(&quot;Radar&quot;) ➞ &quot;RADAr&quot;\n",
        "\n"
      ],
      "metadata": {
        "id": "KN1i4-I9BFbI"
      }
    },
    {
      "cell_type": "code",
      "source": [
        "def reverse(string):\n",
        "  string1 = ''\n",
        "  for i in string:\n",
        "    if i.isupper():\n",
        "      string1 += i.lower()\n",
        "    else:\n",
        "      string1 += i.upper()\n",
        "  return string1[::-1]\n",
        "\n",
        "print(reverse(\"Hello World\"))\n",
        "print(reverse(\"ReVeRsE\"))\n",
        "print(reverse(\"Radar\"))"
      ],
      "metadata": {
        "colab": {
          "base_uri": "https://localhost:8080/"
        },
        "id": "QCI-cILSDH3j",
        "outputId": "8fea2b87-4a3b-4621-a5da-34ec8196d275"
      },
      "execution_count": null,
      "outputs": [
        {
          "output_type": "stream",
          "name": "stdout",
          "text": [
            "DLROw OLLEh\n",
            "eSrEvEr\n",
            "RADAr\n"
          ]
        }
      ]
    },
    {
      "cell_type": "markdown",
      "source": [
        "<h4 align='justify'><b>Question 3\n",
        "You can assign variables from lists like this:</b></h4>\n",
        "\n",
        "lst = [1, 2, 3, 4, 5, 6]\n",
        "\n",
        "first = lst[0]\n",
        "\n",
        "middle = lst[1:-1]\n",
        "\n",
        "last = lst[-1]\n",
        "\n",
        "print(first) ➞ outputs 1\n",
        "\n",
        "print(middle) ➞ outputs [2, 3, 4, 5]\n",
        "\n",
        "print(last) ➞ outputs 6\n",
        "\n",
        "<h4 align='justify'><b>With Python 3, you can assign variables from lists in a much more succinct way. Create\n",
        "variables first, middle and last from the given list using destructuring assignment\n",
        "(check the Resources tab for some examples), where:</b></h4>\n",
        "\n",
        "first ➞ 1\n",
        "\n",
        "middle ➞ [2, 3, 4, 5]\n",
        "\n",
        "last ➞ 6\n",
        "\n",
        "<h4 align='justify'><b>Your task is to unpack the list write your code here into three variables, being first,\n",
        "middle, and last, with middle being everything in between the first and last element. Then\n",
        "print all three variables.</b></h4>"
      ],
      "metadata": {
        "id": "YEvygyHpBKrm"
      }
    },
    {
      "cell_type": "code",
      "source": [
        "def variables(List):\n",
        "  First = List[0]\n",
        "  Middle = List[1:-1]\n",
        "  Last = List[-1]\n",
        "  print(f\"First:{First}, \\nMiddle:{Middle} \\nLast:{Last}\")\n",
        "\n",
        "variables([1, 2, 3, 4, 5, 6])"
      ],
      "metadata": {
        "colab": {
          "base_uri": "https://localhost:8080/"
        },
        "id": "60HDnjSoFRh2",
        "outputId": "b5415b28-aa64-42d1-dc02-ebdee8f7327b"
      },
      "execution_count": null,
      "outputs": [
        {
          "output_type": "stream",
          "name": "stdout",
          "text": [
            "First:1, \n",
            "Middle:[2, 3, 4, 5] \n",
            "Last:6\n"
          ]
        }
      ]
    },
    {
      "cell_type": "markdown",
      "source": [
        "<h4 align='justify'><b>Question 4\n",
        "Write a function that calculates the factorial of a number recursively.\n",
        "Examples</b></h4>\n",
        "\n",
        "factorial(5) ➞ 120\n",
        "\n",
        "factorial(3) ➞ 6\n",
        "\n",
        "factorial(1) ➞ 1\n",
        "\n",
        "factorial(0) ➞ 1\n",
        "\n"
      ],
      "metadata": {
        "id": "jr0sqIn8BNVK"
      }
    },
    {
      "cell_type": "code",
      "source": [
        "def factorial(N):\n",
        "  if N == 0:\n",
        "    return 1\n",
        "  return N * factorial(N-1)\n",
        "\n",
        "#N = int(input(\"Enter the Value of N: \"))\n",
        "print(f\"The Factoril of a given number {5} is {factorial(5)}\")\n",
        "print(f\"The Factoril of a given number {1} is {factorial(1)}\")\n",
        "print(f\"The Factoril of a given number {3} is {factorial(3)}\")\n",
        "print(f\"The Factoril of a given number {0} is {factorial(0)}\")"
      ],
      "metadata": {
        "colab": {
          "base_uri": "https://localhost:8080/"
        },
        "id": "CT1IxBDqGQe1",
        "outputId": "82765d03-eae4-4ba5-d840-70cb49839457"
      },
      "execution_count": null,
      "outputs": [
        {
          "output_type": "stream",
          "name": "stdout",
          "text": [
            "The Factoril of a given number 5 is 120\n",
            "The Factoril of a given number 1 is 1\n",
            "The Factoril of a given number 3 is 6\n",
            "The Factoril of a given number 0 is 1\n"
          ]
        }
      ]
    },
    {
      "cell_type": "markdown",
      "source": [
        "<h4 align='justify'><b>Question 5\n",
        "Write a function that moves all elements of one type to the end of the list.\n",
        "Examples</b></h4>\n",
        "\n",
        "move_to_end([1, 3, 2, 4, 4, 1], 1) ➞ [3, 2, 4, 4, 1, 1]\n",
        "\n",
        "Move all the 1s to the end of the array.\n",
        "\n",
        "move_to_end([7, 8, 9, 1, 2, 3, 4], 9) ➞ [7, 8, 1, 2, 3, 4, 9]\n",
        "\n",
        "move_to_end([&quot;a&quot;, &quot;a&quot;, &quot;a&quot;, &quot;b&quot;], &quot;a&quot;) ➞ [&quot;b&quot;, &quot;a&quot;, &quot;a&quot;, &quot;a&quot;]"
      ],
      "metadata": {
        "id": "NeDgDW2YBPwa"
      }
    },
    {
      "cell_type": "code",
      "source": [
        "l = [1, 3, 2, 4, 4, 1]\n",
        "last = l.index(1)\n",
        "last"
      ],
      "metadata": {
        "colab": {
          "base_uri": "https://localhost:8080/"
        },
        "id": "8ipkMArGf_0D",
        "outputId": "9db1e426-4a95-48dd-d91e-0073d088f4b0"
      },
      "execution_count": null,
      "outputs": [
        {
          "output_type": "execute_result",
          "data": {
            "text/plain": [
              "0"
            ]
          },
          "metadata": {},
          "execution_count": 18
        }
      ]
    },
    {
      "cell_type": "code",
      "execution_count": null,
      "metadata": {
        "id": "VtORKaJw3JMy",
        "colab": {
          "base_uri": "https://localhost:8080/"
        },
        "outputId": "09fcc276-823a-4efa-85e6-51b159483532"
      },
      "outputs": [
        {
          "output_type": "stream",
          "name": "stdout",
          "text": [
            "[1, 3, 2, 4, 4, 1]\n",
            "[7, 8, 4, 1, 2, 3, 9]\n",
            "['b', 'a', 'a', 'a']\n"
          ]
        }
      ],
      "source": [
        "def move_to_last(List, N):\n",
        "  last = List.index(N)\n",
        "  List[-1], List[last] = List[last], List[-1]\n",
        "  return List\n",
        "\n",
        "print(move_to_last([1, 3, 2, 4, 4, 1], 1))\n",
        "print(move_to_last([7, 8, 9, 1, 2, 3, 4], 9))\n",
        "print(move_to_last([\"a\", \"a\", \"a\", \"b\"], \"a\"))"
      ]
    }
  ]
}