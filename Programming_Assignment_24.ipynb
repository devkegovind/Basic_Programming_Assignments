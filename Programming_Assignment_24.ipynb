{
  "nbformat": 4,
  "nbformat_minor": 0,
  "metadata": {
    "colab": {
      "provenance": []
    },
    "kernelspec": {
      "name": "python3",
      "display_name": "Python 3"
    },
    "language_info": {
      "name": "python"
    }
  },
  "cells": [
    {
      "cell_type": "markdown",
      "source": [
        "---\n",
        "<h1 align='center'><b>PROGRAMMING ASSIGNMENT_24</b></h1>\n",
        "\n",
        "---"
      ],
      "metadata": {
        "id": "tFPJsCqJRnQc"
      }
    },
    {
      "cell_type": "markdown",
      "source": [
        "<h4 align='justify'><b>Question1\n",
        "Create a function that takes an integer and returns a list from 1 to the given number, where:\n",
        "\n",
        "1. If the number can be divided evenly by 4, amplify it by 10 (i.e. return 10 times the number).\n",
        "2. If the number cannot be divided evenly by 4, simply return the number.\n",
        "\n",
        "Examples</b></h4>\n",
        "\n",
        "amplify(4) ➞ [1, 2, 3, 40]\n",
        "\n",
        "amplify(3) ➞ [1, 2, 3]\n",
        "\n",
        "amplify(25) ➞ [1, 2, 3, 40, 5, 6, 7, 80, 9, 10, 11, 120, 13, 14, 15, 160,17, 18, 19, 200, 21, 22, 23, 240, 25]\n",
        "\n",
        "Notes\n",
        "- The given integer will always be equal to or greater than 1.\n",
        "- Include the number (see example above).\n",
        "- To perform this problem with its intended purpose, try doing it with list\n",
        "comprehensions. If that&#39;s too difficult, just solve the challenge any way you can."
      ],
      "metadata": {
        "id": "sHnG0Z57RpV8"
      }
    },
    {
      "cell_type": "code",
      "execution_count": null,
      "metadata": {
        "colab": {
          "base_uri": "https://localhost:8080/"
        },
        "id": "shGqfd12RkDI",
        "outputId": "b6d67c26-eed7-4866-f974-edeed96ccc7f"
      },
      "outputs": [
        {
          "output_type": "stream",
          "name": "stdout",
          "text": [
            "[1, 2, 3, 40]\n",
            "[1, 2, 3]\n",
            "[1, 2, 3, 40, 5, 6, 7, 80, 9, 10, 11, 120, 13, 14, 15, 160, 17, 18, 19, 200, 21, 22, 23, 240, 25]\n"
          ]
        }
      ],
      "source": [
        "def amplify(N):\n",
        "  # N it is an integer\n",
        "  list1 = []\n",
        "  if N >= 1:\n",
        "    for i in range(1, N+1):\n",
        "      if i % 4 == 0:\n",
        "        list1.append(i*10)\n",
        "      elif i not in list1:\n",
        "        list1.append(i)\n",
        "      else:\n",
        "        list1 = list1\n",
        "    return list1\n",
        "\n",
        "print(amplify(4))\n",
        "print(amplify(3))\n",
        "print(amplify(25))"
      ]
    },
    {
      "cell_type": "markdown",
      "source": [
        "<h4 align='justify'><b>Question2\n",
        "Create a function that takes a list of numbers and return the number that&#39;s unique.\n",
        "Examples</b></h4>\n",
        "\n",
        "unique([3, 3, 3, 7, 3, 3]) ➞ 7\n",
        "\n",
        "unique([0, 0, 0.77, 0, 0]) ➞ 0.77\n",
        "\n",
        "unique([0, 1, 1, 1, 1, 1, 1, 1]) ➞ 0\n",
        "\n",
        "Notes\n",
        "Test cases will always have exactly one unique number while all others are the same."
      ],
      "metadata": {
        "id": "mBrbe8cxTMlL"
      }
    },
    {
      "cell_type": "code",
      "source": [
        "def unique(List):\n",
        "  str1 = ''\n",
        "  for i in List:\n",
        "    if List.count(i) == 1:\n",
        "      str1 += str(i)\n",
        "    else:\n",
        "      str1 == 0\n",
        "\n",
        "  return (str1)\n",
        "  \n",
        "print(unique([3, 3, 3, 7, 3, 3]))\n",
        "print(unique([0, 0, 0.77, 0, 0]))\n",
        "print(unique([0, 1, 1, 1, 1, 1, 1, 1]))"
      ],
      "metadata": {
        "colab": {
          "base_uri": "https://localhost:8080/"
        },
        "id": "NNQfqeTFTQdf",
        "outputId": "9114ee82-3d01-4155-9087-b71ab3c960a2"
      },
      "execution_count": null,
      "outputs": [
        {
          "output_type": "stream",
          "name": "stdout",
          "text": [
            "7\n",
            "0.77\n",
            "0\n"
          ]
        }
      ]
    },
    {
      "cell_type": "markdown",
      "source": [
        "<h4 align='justify'><b>Question3\n",
        "Your task is to create a Circle constructor that creates a circle with a radius provided by an\n",
        "argument. The circles constructed must have two getters getArea() (PIr^2) and\n",
        "getPerimeter() (2PI*r) which give both respective areas and perimeter (circumference).\n",
        "For help with this class, I have provided you with a Rectangle constructor which you can use\n",
        "as a base example.\n",
        "Examples</b></h4>\n",
        "\n",
        "circy = Circle(11)\n",
        "\n",
        "circy.getArea()\n",
        "\n",
        "Should return 380.132711084365\n",
        "\n",
        "circy = Circle(4.44)\n",
        "\n",
        "circy.getPerimeter()\n",
        "\n",
        "Should return 27.897342763877365\n",
        "\n",
        "Notes\n",
        "Round results up to the nearest integer."
      ],
      "metadata": {
        "id": "H4Y5Q2UwTRAp"
      }
    },
    {
      "cell_type": "code",
      "source": [
        "class Circle:\n",
        "  def __init__(self, r):\n",
        "    self.r = r\n",
        "  # r is the radius of the circle\n",
        "\n",
        "  def getArea(self):\n",
        "    return (3.1457)*(self.r)*(self.r)\n",
        "  \n",
        "  def getPerimeter(self):\n",
        "    return 2*3.1457*self.r\n",
        "\n",
        "circy = Circle(11)\n",
        "print(circy.getArea())\n",
        "print(circy.getPerimeter())\n",
        "\n",
        "circy1 = Circle(4.44)\n",
        "print(circy1.getArea())\n",
        "print(circy1.getPerimeter())"
      ],
      "metadata": {
        "colab": {
          "base_uri": "https://localhost:8080/"
        },
        "id": "l36OJz5ZTXDR",
        "outputId": "a1b727c0-6db1-4775-c18d-cce20efb3c1a"
      },
      "execution_count": null,
      "outputs": [
        {
          "output_type": "stream",
          "name": "stdout",
          "text": [
            "380.62969999999996\n",
            "69.2054\n",
            "62.01307152000001\n",
            "27.933816000000004\n"
          ]
        }
      ]
    },
    {
      "cell_type": "markdown",
      "source": [
        "<h4 align='justify'><b>Question4\n",
        "Create a function that takes a list of strings and return a list, sorted from shortest to longest.\n",
        "Examples</b></h4>\n",
        "\n",
        "sort_by_length([&quot;Google&quot;, &quot;Apple&quot;, &quot;Microsoft&quot;])➞ [&quot;Apple&quot;, &quot;Google&quot;, &quot;Microsoft&quot;]\n",
        "\n",
        "sort_by_length([&quot;Leonardo&quot;, &quot;Michelangelo&quot;, &quot;Raphael&quot;, &quot;Donatello&quot;])➞ [&quot;Raphael&quot;, &quot;Leonardo&quot;, &quot;Donatello&quot;, &quot;Michelangelo&quot;]\n",
        "\n",
        "sort_by_length([&quot;Turing&quot;, &quot;Einstein&quot;, &quot;Jung&quot;])➞ [&quot;Jung&quot;, &quot;Turing&quot;, &quot;Einstein&quot;]\n",
        "\n",
        "Notes\n",
        "All test cases contain lists with strings of different lengths, so you won&#39;t have to deal with\n",
        "multiple strings of the same length."
      ],
      "metadata": {
        "id": "eGrpQaypTXrA"
      }
    },
    {
      "cell_type": "code",
      "source": [
        "def sort_by_length(List):\n",
        "  list1 = []\n",
        "  for i in List:\n",
        "    list1.append(i)\n",
        "  return sorted(list1)\n",
        "\n",
        "print(sort_by_length([\"Google\", \"Apple\", \"Microsoft\"]))\n",
        "print(sort_by_length([\"Leonardo\", \"Michelangelo\", \"Raphael\", \"Donatello\"]))\n",
        "print(sort_by_length([\"Turing\", \"Einstein\", \"Jung\"]))"
      ],
      "metadata": {
        "colab": {
          "base_uri": "https://localhost:8080/"
        },
        "id": "KluFsaETTbS_",
        "outputId": "1fa02ff5-4d8d-4881-e02c-44bf371c7dce"
      },
      "execution_count": null,
      "outputs": [
        {
          "output_type": "stream",
          "name": "stdout",
          "text": [
            "['Apple', 'Google', 'Microsoft']\n",
            "['Donatello', 'Leonardo', 'Michelangelo', 'Raphael']\n",
            "['Einstein', 'Jung', 'Turing']\n"
          ]
        }
      ]
    },
    {
      "cell_type": "markdown",
      "source": [
        "<h4 align='justify'><b>Question5\n",
        "Create a function that validates whether three given integers form a Pythagorean triplet. The\n",
        "sum of the squares of the two smallest integers must equal the square of the largest number to\n",
        "be validated.\n",
        "Examples</b></h4>\n",
        "\n",
        "is_triplet(3, 4, 5) ➞ True\n",
        "\n",
        "3² + 4² = 25\n",
        "\n",
        "5² = 25\n",
        "\n",
        "is_triplet(13, 5, 12) ➞ True\n",
        "\n",
        "5² + 12² = 169\n",
        "\n",
        "13² = 169\n",
        "\n",
        "is_triplet(1, 2, 3) ➞ False\n",
        "\n",
        "1² + 2² = 5\n",
        "\n",
        "3² = 9\n",
        "\n",
        "Notes\n",
        "Numbers may not be given in a sorted order."
      ],
      "metadata": {
        "id": "YxEAxfTpTbtA"
      }
    },
    {
      "cell_type": "code",
      "source": [
        "def is_triplet(a, b, c):\n",
        "  if a < c and b < c:\n",
        "    if a*a + b*b == c*c:\n",
        "      return True\n",
        "  elif a < b and c < b:\n",
        "    if a*a + c*c == b*b:\n",
        "      return True\n",
        "  elif b < a and c < a:\n",
        "    if b*b + c*c == a*a:\n",
        "      return True\n",
        "  else:\n",
        "      return 0\n",
        "\n",
        "print(is_triplet(3, 4, 5))\n",
        "print(is_triplet(13, 5, 12))\n",
        "print(is_triplet(1, 2, 3))"
      ],
      "metadata": {
        "colab": {
          "base_uri": "https://localhost:8080/"
        },
        "id": "R03SUM4aTed5",
        "outputId": "79479620-e351-4f53-b5e8-37a5164184fe"
      },
      "execution_count": null,
      "outputs": [
        {
          "output_type": "stream",
          "name": "stdout",
          "text": [
            "True\n",
            "True\n",
            "None\n"
          ]
        }
      ]
    }
  ]
}