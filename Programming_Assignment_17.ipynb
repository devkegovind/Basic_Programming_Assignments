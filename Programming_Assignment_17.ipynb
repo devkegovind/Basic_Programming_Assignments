{
  "nbformat": 4,
  "nbformat_minor": 0,
  "metadata": {
    "colab": {
      "provenance": []
    },
    "kernelspec": {
      "name": "python3",
      "display_name": "Python 3"
    },
    "language_info": {
      "name": "python"
    }
  },
  "cells": [
    {
      "cell_type": "markdown",
      "source": [
        "---\n",
        "\n",
        "\n",
        "<h1 align='center'><b>ASSIGNMENT NO.17</b></h1>\n",
        "\n",
        "---"
      ],
      "metadata": {
        "id": "K_qZGss9vofH"
      }
    },
    {
      "cell_type": "markdown",
      "source": [
        "<h4 align='justify'><b>Question1. Create a function that takes three arguments a, b, c and returns the sum of the\n",
        "numbers that are evenly divided by c from the range a, b inclusive.\n",
        "Examples</b></h4>\n",
        "\n",
        "evenly_divisible(1, 10, 20) ➞ 0\n",
        "\n",
        "No number between 1 and 10 can be evenly divided by 20.\n",
        "\n",
        "evenly_divisible(1, 10, 2) ➞ 30\n",
        "\n",
        "2 + 4 + 6 + 8 + 10 = 30\n",
        "\n",
        "evenly_divisible(1, 10, 3) ➞ 18\n",
        "\n",
        "3 + 6 + 9 = 18\n",
        "\n"
      ],
      "metadata": {
        "id": "-aiPr-tevoRi"
      }
    },
    {
      "cell_type": "code",
      "source": [
        "def evenly_divisible(a, b, c):\n",
        "  sum1 = 0\n",
        "  for i in range(a, b+1):\n",
        "    if i % c == 0:\n",
        "      sum1 = sum1 + i  \n",
        "    else:\n",
        "      sum1 = sum1\n",
        "  print(f\"The sum of number between {a} and {b} is {sum1}\")"
      ],
      "metadata": {
        "id": "WD63_YL7yjgy"
      },
      "execution_count": null,
      "outputs": []
    },
    {
      "cell_type": "code",
      "source": [
        "evenly_divisible(1, 10, 20)\n",
        "evenly_divisible(1, 10, 2)\n",
        "evenly_divisible(1, 10, 3)"
      ],
      "metadata": {
        "colab": {
          "base_uri": "https://localhost:8080/"
        },
        "id": "gP0T0AiUzpLp",
        "outputId": "9718148d-311e-4385-a673-12506bd44604"
      },
      "execution_count": null,
      "outputs": [
        {
          "output_type": "stream",
          "name": "stdout",
          "text": [
            "The sum of number between 1 and 10 is 0\n",
            "The sum of number between 1 and 10 is 30\n",
            "The sum of number between 1 and 10 is 18\n"
          ]
        }
      ]
    },
    {
      "cell_type": "markdown",
      "source": [
        "<h4 align='justify'><b>Question2. Create a function that returns True if a given inequality expression is correct and\n",
        "False otherwise.\n",
        "Examples</b></h4>\n",
        "\n",
        "correct_signs(&quot;3 &lt; 7 &lt; 11&quot;) ➞ True\n",
        "\n",
        "correct_signs(&quot;13 &gt; 44 &gt; 33 &gt; 1&quot;) ➞ False\n",
        "\n",
        "correct_signs(&quot;1 &lt; 2 &lt; 6 &lt; 9 &gt; 3&quot;) ➞ True\n",
        "\n",
        "\n"
      ],
      "metadata": {
        "id": "QdPh1tL7wjA_"
      }
    },
    {
      "cell_type": "code",
      "source": [
        "def correct_signs ( txt ) : \n",
        "    return eval ( txt )\n",
        "print(correct_signs(\"3 > 7 < 11\"))\n",
        "print(correct_signs(\"13 > 44 > 33 > 1\"))\n",
        "print(correct_signs(\"1 < 2 < 6 < 9 > 3\"))"
      ],
      "metadata": {
        "colab": {
          "base_uri": "https://localhost:8080/"
        },
        "id": "8924w0T2_DEK",
        "outputId": "a6540d31-d864-4779-9346-910fbcc9598b"
      },
      "execution_count": null,
      "outputs": [
        {
          "output_type": "stream",
          "name": "stdout",
          "text": [
            "False\n",
            "False\n",
            "True\n"
          ]
        }
      ]
    },
    {
      "cell_type": "markdown",
      "source": [
        "<h4 align='justify'><b>Question3. Create a function that replaces all the vowels in a string with a specified character.\n",
        "Examples</b></h4>\n",
        "\n",
        "replace_vowels(&quot;the aardvark&quot;, &quot;#&quot;) ➞ &quot;th# ##rdv#rk&quot;\n",
        "\n",
        "replace_vowels(&quot;minnie mouse&quot;, &quot;?&quot;) ➞ &quot;m?nn?? m??s?&quot;\n",
        "\n",
        "replace_vowels(&quot;shakespeare&quot;, &quot;*&quot;) ➞ &quot;sh*k*sp**r*&quot;\n",
        "\n",
        "\n"
      ],
      "metadata": {
        "id": "Ms7Dk6A3wnxG"
      }
    },
    {
      "cell_type": "code",
      "source": [
        "def replace_vowels(a,b):\n",
        "  vowels = 'AEIOUaeiou'\n",
        "  for i in vowels:\n",
        "    if i in a:\n",
        "      a = a.replace(i, b)\n",
        "    else:\n",
        "      a = a\n",
        "  return a"
      ],
      "metadata": {
        "id": "mA1A7mtg2Ofv"
      },
      "execution_count": null,
      "outputs": []
    },
    {
      "cell_type": "code",
      "source": [
        "print(replace_vowels(\"the aardvark\", \"#\"))\n",
        "print(replace_vowels(\"minnie mouse\", \"?\"))\n",
        "print(replace_vowels(\"shakespeare\", \"*\"))"
      ],
      "metadata": {
        "colab": {
          "base_uri": "https://localhost:8080/"
        },
        "id": "m5sWoslM3iPd",
        "outputId": "a675de65-19ba-4ea2-8d8c-91076a2ddf55"
      },
      "execution_count": null,
      "outputs": [
        {
          "output_type": "stream",
          "name": "stdout",
          "text": [
            "th# ##rdv#rk\n",
            "m?nn?? m??s?\n",
            "sh*k*sp**r*\n"
          ]
        }
      ]
    },
    {
      "cell_type": "markdown",
      "source": [
        "<h4 align='justify'><b>Question4. Write a function that calculates the factorial of a number recursively.\n",
        "Examples</b></h4>\n",
        "\n",
        "factorial(5) ➞ 120\n",
        "\n",
        "factorial(3) ➞ 6\n",
        "\n",
        "factorial(1) ➞ 1\n",
        "\n",
        "factorial(0) ➞ 1\n",
        "\n"
      ],
      "metadata": {
        "id": "g7OEmM2jwtf7"
      }
    },
    {
      "cell_type": "code",
      "source": [
        "def factorial(N):\n",
        "  fac = 1\n",
        "  for i in range(1,N+1):\n",
        "    fac *= i\n",
        "  return fac"
      ],
      "metadata": {
        "id": "JVJSWj_B5Sgn"
      },
      "execution_count": null,
      "outputs": []
    },
    {
      "cell_type": "code",
      "source": [
        "print(factorial(5))\n",
        "print(factorial(3))\n",
        "print(factorial(1))\n",
        "print(factorial(0))"
      ],
      "metadata": {
        "colab": {
          "base_uri": "https://localhost:8080/"
        },
        "id": "3mXjIcYi5u_s",
        "outputId": "e3ee881a-9b37-4b18-d68d-5d82dfa757fd"
      },
      "execution_count": null,
      "outputs": [
        {
          "output_type": "stream",
          "name": "stdout",
          "text": [
            "120\n",
            "6\n",
            "1\n",
            "1\n"
          ]
        }
      ]
    },
    {
      "cell_type": "code",
      "source": [
        "def factorial(N):\n",
        "  if N == 0:\n",
        "    return 1\n",
        "  return N * factorial(N-1)"
      ],
      "metadata": {
        "id": "C7vN4uk48TlG"
      },
      "execution_count": null,
      "outputs": []
    },
    {
      "cell_type": "code",
      "source": [
        "factorial(5)"
      ],
      "metadata": {
        "colab": {
          "base_uri": "https://localhost:8080/"
        },
        "id": "FkcpGH378kMM",
        "outputId": "ff7a73c0-4dba-413f-874f-8ebde2e96857"
      },
      "execution_count": null,
      "outputs": [
        {
          "output_type": "execute_result",
          "data": {
            "text/plain": [
              "120"
            ]
          },
          "metadata": {},
          "execution_count": 36
        }
      ]
    },
    {
      "cell_type": "markdown",
      "source": [
        "<h4 align='justify'><b>Question 5\n",
        "Hamming distance is the number of characters that differ between two strings.\n",
        "To illustrate:</b></h4>\n",
        "\n",
        "String1: &quot;abcbba&quot;\n",
        "\n",
        "String2: &quot;abcbda&quot;\n",
        "\n",
        "Hamming Distance: 1 - &quot;b&quot; vs. &quot;d&quot; is the only difference.\n",
        "\n",
        "Create a function that computes the hamming distance between two strings.\n",
        "\n",
        "Examples\n",
        "\n",
        "hamming_distance(&quot;abcde&quot;, &quot;bcdef&quot;) ➞ 5\n",
        "\n",
        "hamming_distance(&quot;abcde&quot;, &quot;abcde&quot;) ➞ 0\n",
        "\n",
        "hamming_distance(&quot;strong&quot;, &quot;strung&quot;) ➞ 1"
      ],
      "metadata": {
        "id": "woFuQS_AwxDb"
      }
    },
    {
      "cell_type": "code",
      "execution_count": null,
      "metadata": {
        "colab": {
          "base_uri": "https://localhost:8080/"
        },
        "id": "5Bv2HBWjvZqP",
        "outputId": "7ac9f81d-5722-4161-e584-7b2b34fc29bf"
      },
      "outputs": [
        {
          "output_type": "stream",
          "name": "stdout",
          "text": [
            "5\n"
          ]
        }
      ],
      "source": [
        "def hamming_distance(a, b):\n",
        "  i = 0\n",
        "  count = 0\n",
        "  while i < len(a):\n",
        "    if a[i] != b[i]:\n",
        "      count += 1\n",
        "    i += 1\n",
        "  return count\n",
        "\n",
        "print(hamming_distance(\"abcde\", \"bcdef\"))"
      ]
    },
    {
      "cell_type": "code",
      "source": [
        "print(hamming_distance(\"abcde\", \"abcde\"))"
      ],
      "metadata": {
        "colab": {
          "base_uri": "https://localhost:8080/"
        },
        "id": "7iEHH6uO_358",
        "outputId": "0f01889a-5968-47c1-8ac0-b5e3976958be"
      },
      "execution_count": null,
      "outputs": [
        {
          "output_type": "stream",
          "name": "stdout",
          "text": [
            "0\n"
          ]
        }
      ]
    },
    {
      "cell_type": "code",
      "source": [
        "print(hamming_distance(\"strong\", \"strung\"))"
      ],
      "metadata": {
        "colab": {
          "base_uri": "https://localhost:8080/"
        },
        "id": "GH-ay3ig_5_E",
        "outputId": "930b7dde-347d-4dc7-d16e-2f92d98ae52e"
      },
      "execution_count": null,
      "outputs": [
        {
          "output_type": "stream",
          "name": "stdout",
          "text": [
            "1\n"
          ]
        }
      ]
    }
  ]
}