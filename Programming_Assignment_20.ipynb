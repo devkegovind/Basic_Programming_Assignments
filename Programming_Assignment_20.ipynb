{
  "nbformat": 4,
  "nbformat_minor": 0,
  "metadata": {
    "colab": {
      "provenance": []
    },
    "kernelspec": {
      "name": "python3",
      "display_name": "Python 3"
    },
    "language_info": {
      "name": "python"
    }
  },
  "cells": [
    {
      "cell_type": "markdown",
      "source": [
        "---\n",
        "<h1 align='center'><b>PROGRAMMING ASSIGNMENT_20</b></h1>\n",
        "\n",
        "---"
      ],
      "metadata": {
        "id": "BXvpEhTUvVky"
      }
    },
    {
      "cell_type": "markdown",
      "source": [
        "<h4 align='justify'><b>Question1\n",
        "Create a function that takes a list of strings and integers, and filters out the list so that it\n",
        "returns a list of integers only.\n",
        "Examples</b></h4>\n",
        "\n",
        "filter_list([1, 2, 3, &quot;a&quot;, &quot;b&quot;, 4]) ➞ [1, 2, 3, 4]\n",
        "\n",
        "filter_list([&quot;A&quot;, 0, &quot;Edabit&quot;, 1729, &quot;Python&quot;, &quot;1729&quot;]) ➞ [0, 1729]\n",
        "\n",
        "filter_list([&quot;Nothing&quot;, &quot;here&quot;]) ➞ []\n",
        "\n"
      ],
      "metadata": {
        "id": "mFB6w5ImvVcK"
      }
    },
    {
      "cell_type": "code",
      "source": [
        "def filter_list(List):\n",
        "  list1 = []\n",
        "  for i in List:\n",
        "    if type(i) == int:\n",
        "      list1.append(i)\n",
        "    else:\n",
        "      list1 = list1\n",
        "  return list1\n",
        "\n",
        "print(filter_list([1, 2, 3, \"a\", \"b\", 4]))\n",
        "print(filter_list([\"A\", 0, \"Edabit\", 1729, \"Python\", \"1729\"]))\n",
        "print(filter_list([\"Nothing\", \"here\"]))"
      ],
      "metadata": {
        "colab": {
          "base_uri": "https://localhost:8080/"
        },
        "id": "qjFqPpAywyxX",
        "outputId": "7a0d9bc1-015c-43c0-c690-12b0ecbb1213"
      },
      "execution_count": null,
      "outputs": [
        {
          "output_type": "stream",
          "name": "stdout",
          "text": [
            "[1, 2, 3, 4]\n",
            "[0, 1729]\n",
            "[]\n"
          ]
        }
      ]
    },
    {
      "cell_type": "markdown",
      "source": [
        "<h4 align='justify'><b>Question2\n",
        "Given a list of numbers, create a function which returns the list but with each element&#39;s\n",
        "index in the list added to itself. This means you add 0 to the number at index 0, add 1 to the\n",
        "number at index 1, etc...\n",
        "Examples</b></h4>\n",
        "\n",
        "add_indexes([0, 0, 0, 0, 0]) ➞ [0, 1, 2, 3, 4]\n",
        "\n",
        "add_indexes([1, 2, 3, 4, 5]) ➞ [1, 3, 5, 7, 9]\n",
        "\n",
        "add_indexes([5, 4, 3, 2, 1]) ➞ [5, 5, 5, 5, 5]\n",
        "\n",
        "\n"
      ],
      "metadata": {
        "id": "gIr6z4z8wm4L"
      }
    },
    {
      "cell_type": "code",
      "source": [
        "def add_indexes(List):\n",
        "  list1 = []\n",
        "  for i in range(len(List)):\n",
        "    list1.append(List[i] + i)\n",
        "  return list1\n",
        "\n",
        "print(add_indexes([0, 0, 0, 0, 0]))\n",
        "print(add_indexes([1, 2, 3, 4, 5]))\n",
        "print(add_indexes([5, 4, 3, 2, 1]))"
      ],
      "metadata": {
        "colab": {
          "base_uri": "https://localhost:8080/"
        },
        "id": "477XwtsCyA76",
        "outputId": "d09ea11f-9692-47b0-8043-62f562f94e47"
      },
      "execution_count": null,
      "outputs": [
        {
          "output_type": "stream",
          "name": "stdout",
          "text": [
            "[0, 1, 2, 3, 4]\n",
            "[1, 3, 5, 7, 9]\n",
            "[5, 5, 5, 5, 5]\n"
          ]
        }
      ]
    },
    {
      "cell_type": "markdown",
      "source": [
        "<h4 align='justify'><b>Question3\n",
        "Create a function that takes the height and radius of a cone as arguments and returns the\n",
        "volume of the cone rounded to the nearest hundredth. See the resources tab for the formula.\n",
        "Examples</b></h4>\n",
        "\n",
        "cone_volume(3, 2) ➞ 12.57\n",
        "\n",
        "cone_volume(15, 6) ➞ 565.49\n",
        "\n",
        "cone_volume(18, 0) ➞ 0\n",
        "\n",
        "\n"
      ],
      "metadata": {
        "id": "8_gXTkpuwq2a"
      }
    },
    {
      "cell_type": "code",
      "source": [
        "def cone_volume(h, r):\n",
        "  return 3.1415*(r**2)*(h/3)\n",
        "\n",
        "#h = height of the cone\n",
        "#r = radius of the cone\n",
        "\n",
        "print(f\"The Volume of cone is {round(cone_volume(3,2),2)}\")\n",
        "print(f\"The Volume of cone is {round(cone_volume(15,6),2)}\")\n",
        "print(f\"The Volume of cone is {round(cone_volume(18,0),2)}\")"
      ],
      "metadata": {
        "colab": {
          "base_uri": "https://localhost:8080/"
        },
        "id": "O0rW5JbeDhd6",
        "outputId": "08d237d8-8792-43e4-9cc1-205b3b11df16"
      },
      "execution_count": null,
      "outputs": [
        {
          "output_type": "stream",
          "name": "stdout",
          "text": [
            "The Volume of cone is 12.57\n",
            "The Volume of cone is 565.47\n",
            "The Volume of cone is 0.0\n"
          ]
        }
      ]
    },
    {
      "cell_type": "markdown",
      "source": [
        "<h4 align='justify'><b>Question4\n",
        "This Triangular Number Sequence is generated from a pattern of dots that form a triangle.\n",
        "The first 5 numbers of the sequence, or dots, are:\n",
        "1, 3, 6, 10, 15\n",
        "This means that the first triangle has just one dot, the second one has three dots, the third one\n",
        "has 6 dots and so on.\n",
        "Write a function that gives the number of dots with its corresponding triangle number of the\n",
        "sequence.\n",
        "Examples</b></h4>\n",
        "\n",
        "triangle(1) ➞ 1\n",
        "\n",
        "triangle(6) ➞ 21\n",
        "\n",
        "triangle(215) ➞ 23220"
      ],
      "metadata": {
        "id": "if-6K0DwwuXX"
      }
    },
    {
      "cell_type": "markdown",
      "source": [
        "<h4 align='justify'><b>Question5\n",
        "Create a function that takes a list of numbers between 1 and 10 (excluding one number) and\n",
        "returns the missing number.\n",
        "Examples</b></h4>\n",
        "\n",
        "missing_num([1, 2, 3, 4, 6, 7, 8, 9, 10]) ➞ 5\n",
        "\n",
        "missing_num([7, 2, 3, 6, 5, 9, 1, 4, 8]) ➞ 10\n",
        "\n",
        "missing_num([10, 5, 1, 2, 4, 6, 8, 3, 9]) ➞ 7"
      ],
      "metadata": {
        "id": "-mV4dExywwzf"
      }
    },
    {
      "cell_type": "code",
      "execution_count": null,
      "metadata": {
        "id": "TMqej825vLoH",
        "colab": {
          "base_uri": "https://localhost:8080/"
        },
        "outputId": "673a2e2d-4851-411c-e199-51f359f6f0ea"
      },
      "outputs": [
        {
          "output_type": "stream",
          "name": "stdout",
          "text": [
            "5\n",
            "10\n",
            "7\n"
          ]
        }
      ],
      "source": [
        "def missing_num(List):\n",
        "  for i in range(1,11):\n",
        "    if i not in List:\n",
        "      return i\n",
        "print(missing_num([1, 2, 3, 4, 6, 7, 8, 9, 10]))\n",
        "print(missing_num([7, 2, 3, 6, 5, 9, 1, 4, 8]))\n",
        "print(missing_num([10, 5, 1, 2, 4, 6, 8, 3, 9]))"
      ]
    }
  ]
}