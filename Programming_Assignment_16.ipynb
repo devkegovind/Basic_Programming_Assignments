{
  "nbformat": 4,
  "nbformat_minor": 0,
  "metadata": {
    "colab": {
      "provenance": []
    },
    "kernelspec": {
      "name": "python3",
      "display_name": "Python 3"
    },
    "language_info": {
      "name": "python"
    }
  },
  "cells": [
    {
      "cell_type": "markdown",
      "source": [
        "---\n",
        "\n",
        "\n",
        "<h1 align='center'><b>ASSIGNMENT NO.16</b><h1>\n",
        "\n",
        "---"
      ],
      "metadata": {
        "id": "qQlDqACZGtFP"
      }
    },
    {
      "cell_type": "markdown",
      "source": [
        "<h4 align='justify'><b>Question1. Write a function that stutters a word as if someone is struggling to read it. The\n",
        "first two letters are repeated twice with an ellipsis ... and space after each, and then the\n",
        "word is pronounced with a question mark?.\n",
        "Examples</b></h4>\n",
        "\n",
        "stutter(&quot;incredible&quot;) ➞ &quot;in... in... incredible?&quot;\n",
        "\n",
        "stutter(&quot;enthusiastic&quot;) ➞ &quot;en... en... enthusiastic?&quot;\n",
        "\n",
        "stutter(&quot;outstanding&quot;) ➞ &quot;ou... ou... outstanding?&quot;\n",
        "\n",
        "Hint :- Assume all input is in lower case and at least two characters long."
      ],
      "metadata": {
        "id": "k9aTLhVcGgGA"
      }
    },
    {
      "cell_type": "code",
      "source": [
        "def stutter(string):\n",
        "  print(string[:2]+'.'*3+string[:2]+'.'*3+string[::]+'?')\n",
        "\n",
        "stutter(\"incredible\")\n",
        "stutter(\"enthusiastic\")\n",
        "stutter(\"outstanding\")"
      ],
      "metadata": {
        "colab": {
          "base_uri": "https://localhost:8080/"
        },
        "id": "MNmktRzKJ939",
        "outputId": "7328816c-2999-4f21-a9fc-abe806a7cf5c"
      },
      "execution_count": null,
      "outputs": [
        {
          "output_type": "stream",
          "name": "stdout",
          "text": [
            "in...in...incredible?\n",
            "en...en...enthusiastic?\n",
            "ou...ou...outstanding?\n"
          ]
        }
      ]
    },
    {
      "cell_type": "markdown",
      "source": [
        "<h4 align='justify'><b>Question 2.Create a function that takes an angle in radians and returns the corresponding\n",
        "angle in degrees rounded to one decimal place.\n",
        "Examples</b></h4>\n",
        "\n",
        "radians_to_degrees(1) ➞ 57.3\n",
        "\n",
        "radians_to_degrees(20) ➞ 1145.9\n",
        "\n",
        "radians_to_degrees(50) ➞ 2864.8"
      ],
      "metadata": {
        "id": "H0pwoVunJj1U"
      }
    },
    {
      "cell_type": "code",
      "source": [
        "def rad_deg(a):\n",
        "  b = round(a*57.2958, 1)\n",
        "  print(f\"radians_to_degree ({a}) is {b}\")"
      ],
      "metadata": {
        "id": "YhJCqfLeIKj-"
      },
      "execution_count": null,
      "outputs": []
    },
    {
      "cell_type": "code",
      "source": [
        "rad_deg(1)\n",
        "rad_deg(20)\n",
        "rad_deg(50)"
      ],
      "metadata": {
        "colab": {
          "base_uri": "https://localhost:8080/"
        },
        "id": "rLReK8TBQsiv",
        "outputId": "301e36e6-f3ab-42b8-d753-9cb3df4ed760"
      },
      "execution_count": null,
      "outputs": [
        {
          "output_type": "stream",
          "name": "stdout",
          "text": [
            "radians_to_degree (1) is 57.3\n",
            "radians_to_degree (20) is 1145.9\n",
            "radians_to_degree (50) is 2864.8\n"
          ]
        }
      ]
    },
    {
      "cell_type": "markdown",
      "source": [
        "<h4 align='justify'><b>Question 3. In this challenge, establish if a given integer num is a Curzon number. If 1 plus\n",
        "2 elevated to num is exactly divisible by 1 plus 2 multiplied by num, then num is a Curzon\n",
        "number.\n",
        "Given a non-negative integer num, implement a function that returns True if num is a Curzon\n",
        "number, or False otherwise.\n",
        "Examples</b></h4>\n",
        "\n",
        "is_curzon(5) ➞ True\n",
        "\n",
        "2 ** 5 + 1 = 33\n",
        "\n",
        "2 * 5 + 1 = 11\n",
        "\n",
        "33 is a multiple of 11\n",
        "\n",
        "is_curzon(10) ➞ False\n",
        "\n",
        "2 ** 10 + 1 = 1025\n",
        "\n",
        "2 * 10 + 1 = 21\n",
        "\n",
        "1025 is not a multiple of 21\n",
        "\n",
        "is_curzon(14) ➞ True\n",
        "\n",
        "2 ** 14 + 1 = 16385\n",
        "\n",
        "2 * 14 + 1 = 29\n",
        "\n",
        "16385 is a multiple of 29"
      ],
      "metadata": {
        "id": "auF7LPeDJqEi"
      }
    },
    {
      "cell_type": "code",
      "source": [
        "def is_curzon(N):\n",
        "  if N > 0:\n",
        "    a = 2**N + 1\n",
        "    print(f\"The Power term of a is {a}\")\n",
        "    b = 2*5 + 1\n",
        "    print(f\"The Product term of b is {b}\")\n",
        "\n",
        "    if a % b == 0:\n",
        "      print(f\"The given number {N} is curzon number.\")\n",
        "    else:\n",
        "      print(f\"The given number {N} is not curzon number.\")\n",
        "  else:\n",
        "    print(\"Please Enter another number\")\n"
      ],
      "metadata": {
        "id": "NlOtiHokVbS6"
      },
      "execution_count": null,
      "outputs": []
    },
    {
      "cell_type": "code",
      "source": [
        "is_curzon(5)\n",
        "print(\"*\"*25)\n",
        "is_curzon(11)\n",
        "print(\"*\"*25)\n",
        "is_curzon(-1)"
      ],
      "metadata": {
        "colab": {
          "base_uri": "https://localhost:8080/"
        },
        "id": "4YeneaIiWWsZ",
        "outputId": "b5e3a8eb-4441-44c4-973a-e05d9300df15"
      },
      "execution_count": null,
      "outputs": [
        {
          "output_type": "stream",
          "name": "stdout",
          "text": [
            "The Power term of a is 33\n",
            "The Product term of b is 11\n",
            "The given number 5 is curzon number.\n",
            "*************************\n",
            "The Power term of a is 2049\n",
            "The Product term of b is 11\n",
            "The given number 11 is not curzon number.\n",
            "*************************\n",
            "Please Enter another number\n"
          ]
        }
      ]
    },
    {
      "cell_type": "markdown",
      "source": [
        "<h4 align='justify'><b>Question 4.Given the side length x find the area of a hexagon.\n",
        "Examples</b></h4>\n",
        "\n",
        "area_of_hexagon(1) ➞ 2.6\n",
        "\n",
        "area_of_hexagon(2) ➞ 10.4\n",
        "\n",
        "area_of_hexagon(3) ➞ 23.4"
      ],
      "metadata": {
        "id": "vcmUiP22JwdS"
      }
    },
    {
      "cell_type": "code",
      "source": [
        "import math\n",
        "def area_of_hexagon(N):\n",
        "  print(f\"The Area of Hexagon with side length {N} is {round(3*(math.sqrt(3))*(N**2), 1)}\")"
      ],
      "metadata": {
        "id": "C_W9LcqwYFBA"
      },
      "execution_count": null,
      "outputs": []
    },
    {
      "cell_type": "code",
      "source": [
        "area_of_hexagon(1)\n",
        "area_of_hexagon(2)\n",
        "area_of_hexagon(3)"
      ],
      "metadata": {
        "colab": {
          "base_uri": "https://localhost:8080/"
        },
        "id": "zd1zE3ZJYzNo",
        "outputId": "dc7af056-d4bb-4cdb-8291-895661191517"
      },
      "execution_count": null,
      "outputs": [
        {
          "output_type": "stream",
          "name": "stdout",
          "text": [
            "The Area of Hexagon with side length 1 is 5.2\n",
            "The Area of Hexagon with side length 2 is 20.8\n",
            "The Area of Hexagon with side length 3 is 46.8\n"
          ]
        }
      ]
    },
    {
      "cell_type": "markdown",
      "source": [
        "<h4 align='justify'><b>Question 5. Create a function that returns a base-2 (binary) representation of a base-10\n",
        "(decimal) string number. To convert is simple: ((2) means base-2 and (10) means base-10)\n",
        "010101001(2) = 1 + 8 + 32 + 128.\n",
        "Going from right to left, the value of the most right bit is 1, now from that every bit to the left\n",
        "will be x2 the value, value of an 8 bit binary numbers are (256, 128, 64, 32, 16, 8, 4, 2, 1).\n",
        "Examples</b></h4>\n",
        "\n",
        "binary(1) ➞ &quot;1&quot;\n",
        "\n",
        "1*1 = 1\n",
        "\n",
        "binary(5) ➞ &quot;101&quot;\n",
        "\n",
        "1*1 + 1*4 = 5\n",
        "\n",
        "binary(10) ➞ &quot;1010&quot;\n",
        "\n",
        "1*2 + 1*8 = 10"
      ],
      "metadata": {
        "id": "JA-9ZQTUJ1E0"
      }
    },
    {
      "cell_type": "code",
      "source": [
        "# Python program to convert a\n",
        "# number from any base to decimal\n",
        "\n",
        "# To return value of a char.\n",
        "# For example, 2 is returned\n",
        "# for '2'. 10 is returned for 'A',\n",
        "# 11 for 'B'\n",
        "def val(c):\n",
        "\tif c >= '0' and c <= '9':\n",
        "\t\treturn ord(c) - ord('0')\n",
        "\telse:\n",
        "\t\treturn ord(c) - ord('A') + 10;\n",
        "\n",
        "# Function to convert a number\n",
        "# from given base 'b' to decimal\n",
        "def toDeci(str,base):\n",
        "\tllen = len(str)\n",
        "\tpower = 1 #Initialize power of base\n",
        "\tnum = 0\t #Initialize result\n",
        "\n",
        "\t# Decimal equivalent is str[len-1]*1 +\n",
        "\t# str[len-2]*base + str[len-3]*(base^2) + ...\n",
        "\tfor i in range(llen - 1, -1, -1):\n",
        "\t\t\n",
        "\t\t# A digit in input number must\n",
        "\t\t# be less than number's base\n",
        "\t\tif val(str[i]) >= base:\n",
        "\t\t\tprint('Invalid Number')\n",
        "\t\t\treturn -1\n",
        "\t\tnum += val(str[i]) * power\n",
        "\t\tpower = power * base\n",
        "\treturn num\n",
        "\t\n",
        "# Driver code\n",
        "strr = \"1\"\n",
        "base = 2\n",
        "print('Decimal equivalent of', strr,\n",
        "\t\t\t'in base', base, 'is',\n",
        "\t\t\t\ttoDeci(strr, base))"
      ],
      "metadata": {
        "colab": {
          "base_uri": "https://localhost:8080/"
        },
        "id": "7JLOpTX8J16b",
        "outputId": "168f3dd7-99d8-437a-cb13-f763aaf2c3bd"
      },
      "execution_count": null,
      "outputs": [
        {
          "output_type": "stream",
          "name": "stdout",
          "text": [
            "Decimal equivalent of 1 in base 2 is 1\n"
          ]
        }
      ]
    }
  ]
}